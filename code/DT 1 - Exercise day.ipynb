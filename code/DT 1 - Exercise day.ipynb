{
 "cells": [
  {
   "cell_type": "markdown",
   "id": "a6bacb9b",
   "metadata": {},
   "source": [
    "## Importing the relevant code/libraries"
   ]
  },
  {
   "cell_type": "markdown",
   "id": "be113077",
   "metadata": {},
   "source": [
    "In this code we will use the numpy and matplotlib libraries, as well as code created by the author of the book (nsfg, first,thinkstats2 and thinkplot). Please refer to the original code or the documentation to find out potential useful functions or get started with coding."
   ]
  },
  {
   "cell_type": "code",
   "execution_count": 1,
   "id": "5fb18549",
   "metadata": {},
   "outputs": [],
   "source": [
    "from __future__ import print_function, division\n",
    "\n",
    "%matplotlib inline\n",
    "\n",
    "import numpy as np\n",
    "\n",
    "import nsfg\n",
    "import first\n",
    "import thinkstats2\n",
    "import thinkplot"
   ]
  },
  {
   "cell_type": "markdown",
   "id": "d138fcde",
   "metadata": {},
   "source": [
    "## Exercise 2-3:"
   ]
  },
  {
   "cell_type": "markdown",
   "id": "c4b4df93",
   "metadata": {},
   "source": [
    "The mode of a distribution is the most frequent value; see\n",
    "Wikipedia. Write a function called Mode that takes a Hist and\n",
    "returns the most frequent value.\n"
   ]
  },
  {
   "cell_type": "markdown",
   "id": "35ed9a69",
   "metadata": {},
   "source": [
    "Step 1: let's try to get familiar with Hist and understand how it works. For this I go to the examples of chapter 2."
   ]
  },
  {
   "cell_type": "markdown",
   "id": "bb5caa52",
   "metadata": {},
   "source": [
    "We already imported the database (import nsfg), but I don't remember how the db works. I go to the nsfg source code and I find this function: "
   ]
  },
  {
   "cell_type": "raw",
   "id": "f0281dc9",
   "metadata": {},
   "source": [
    "def ReadFemPreg(dct_file='2002FemPreg.dct',\n",
    "                dat_file='2002FemPreg.dat.gz'):\n",
    "    \"\"\"Reads the NSFG pregnancy data."
   ]
  },
  {
   "cell_type": "code",
   "execution_count": 2,
   "id": "aa7cd797",
   "metadata": {},
   "outputs": [],
   "source": [
    "# so I try...\n",
    "database = nsfg.ReadFemPreg()"
   ]
  },
  {
   "cell_type": "markdown",
   "id": "e51adb39",
   "metadata": {},
   "source": [
    "The source code also tells me that this function returns a dataframe, so I google how dataframes work in Python. I find out there is a simple method to check the name of all the columns of the dataframe, that can be useful!"
   ]
  },
  {
   "cell_type": "code",
   "execution_count": 6,
   "id": "4da10582",
   "metadata": {},
   "outputs": [],
   "source": [
    "columns = database.columns"
   ]
  },
  {
   "cell_type": "code",
   "execution_count": 7,
   "id": "b4ea35c9",
   "metadata": {},
   "outputs": [
    {
     "name": "stdout",
     "output_type": "stream",
     "text": [
      "Index(['caseid', 'pregordr', 'howpreg_n', 'howpreg_p', 'moscurrp', 'nowprgdk',\n",
      "       'pregend1', 'pregend2', 'nbrnaliv', 'multbrth',\n",
      "       ...\n",
      "       'laborfor_i', 'religion_i', 'metro_i', 'basewgt', 'adj_mod_basewgt',\n",
      "       'finalwgt', 'secu_p', 'sest', 'cmintvw', 'totalwgt_lb'],\n",
      "      dtype='object', length=244)\n"
     ]
    }
   ],
   "source": [
    "print(columns)"
   ]
  },
  {
   "cell_type": "markdown",
   "id": "7d1d71b1",
   "metadata": {},
   "source": [
    "Now that I remember a bit how the db works, I can go to chapter 2 and check again how to work with Hist."
   ]
  },
  {
   "cell_type": "code",
   "execution_count": 8,
   "id": "53eec01d",
   "metadata": {},
   "outputs": [
    {
     "data": {
      "image/png": "[encoded data removed]",
      "text/plain": [
       "<Figure size 432x288 with 1 Axes>"
      ]
     },
     "metadata": {
      "needs_background": "light"
     },
     "output_type": "display_data"
    }
   ],
   "source": [
    "preg = nsfg.ReadFemPreg() #reload the database with the same name that the author uses, for simplicity\n",
    "live = preg[preg.outcome == 1] # get only alive babies\n",
    "hist = thinkstats2.Hist(live.birthwgt_lb, label='birthwgt_lb') # save the histogram object in a variable hist\n",
    "thinkplot.Hist(hist)\n",
    "thinkplot.Config(xlabel='Birth weight (pounds)', ylabel='Count')"
   ]
  },
  {
   "cell_type": "markdown",
   "id": "36c5f097",
   "metadata": {},
   "source": [
    "The assignment asks to find the most frequent value, but that means that I have to get all the frequencies from the histogram and find the maximum, of course I want to know to which value every frequency is associated."
   ]
  },
  {
   "cell_type": "code",
   "execution_count": 9,
   "id": "dba04416",
   "metadata": {},
   "outputs": [
    {
     "data": {
      "text/plain": [
       "dict_items([(7.0, 3049), (6.0, 2223), (8.0, 1889), (5.0, 697), (9.0, 623), (4.0, 229), (10.0, 132), (3.0, 98), (2.0, 53), (1.0, 40), (11.0, 26), (12.0, 10), (0.0, 8), (14.0, 3), (13.0, 3), (15.0, 1)])"
      ]
     },
     "execution_count": 9,
     "metadata": {},
     "output_type": "execute_result"
    }
   ],
   "source": [
    "hist.Items()"
   ]
  },
  {
   "cell_type": "code",
   "execution_count": 35,
   "id": "b5c4506f",
   "metadata": {},
   "outputs": [
    {
     "name": "stdout",
     "output_type": "stream",
     "text": [
      "3049\n",
      "7.0\n"
     ]
    }
   ],
   "source": [
    "max_freq = -1 # initialize the max to an impossibly low value\n",
    "for value,freq in hist.Items():\n",
    "    if freq >= max_freq:\n",
    "        max_freq = freq\n",
    "        value_of_max_freq = value\n",
    "print(max_freq)\n",
    "print(value_of_max_freq)\n",
    "    "
   ]
  },
  {
   "cell_type": "code",
   "execution_count": 42,
   "id": "c533c006",
   "metadata": {},
   "outputs": [],
   "source": [
    "alternative_max = max((freq, value) for value,freq in hist.Items())"
   ]
  },
  {
   "cell_type": "markdown",
   "id": "4d7d4ed4",
   "metadata": {},
   "source": [
    "Now I am pretty sure there should be a pre-made method to find the maximum number in a list in python"
   ]
  },
  {
   "cell_type": "code",
   "execution_count": 43,
   "id": "4ef8f771",
   "metadata": {},
   "outputs": [
    {
     "data": {
      "text/plain": [
       "(3049, 7.0)"
      ]
     },
     "execution_count": 43,
     "metadata": {},
     "output_type": "execute_result"
    }
   ],
   "source": [
    "alternative_max"
   ]
  },
  {
   "cell_type": "code",
   "execution_count": 51,
   "id": "f0291b84",
   "metadata": {},
   "outputs": [],
   "source": [
    "def Mode(hist):\n",
    "    max_freq = -1\n",
    "    for value,freq in hist.Items():\n",
    "        if freq >= max_freq:\n",
    "            max_freq = freq\n",
    "            value_of_max_freq = value\n",
    "    return (max_freq,value_of_max_freq)"
   ]
  },
  {
   "cell_type": "code",
   "execution_count": 52,
   "id": "90a6efa1",
   "metadata": {},
   "outputs": [
    {
     "data": {
      "text/plain": [
       "(3049, 7.0)"
      ]
     },
     "execution_count": 52,
     "metadata": {},
     "output_type": "execute_result"
    }
   ],
   "source": [
    "Mode(hist)"
   ]
  },
  {
   "cell_type": "code",
   "execution_count": 68,
   "id": "295785a2",
   "metadata": {},
   "outputs": [
    {
     "name": "stdout",
     "output_type": "stream",
     "text": [
      "[(7.0, 3049), (6.0, 2223), (8.0, 1889), (5.0, 697), (9.0, 623), (4.0, 229), (10.0, 132), (3.0, 98), (2.0, 53), (1.0, 40), (11.0, 26), (12.0, 10), (0.0, 8), (14.0, 3), (13.0, 3), (15.0, 1)]\n"
     ]
    }
   ],
   "source": [
    "max_freq = -1 # initialize the max to an impossibly low value\n",
    "list_values = list()\n",
    "for value,freq in hist.Items():\n",
    "    if freq >= max_freq:\n",
    "        list_values = [(value, freq)] + list_values\n",
    "        max_freq = freq\n",
    "    else:\n",
    "        list_values = list_values + [(value, freq)]\n",
    "print(list_values)"
   ]
  },
  {
   "cell_type": "markdown",
   "id": "98a191b3",
   "metadata": {},
   "source": [
    "## Addition to exercise by Stella"
   ]
  },
  {
   "cell_type": "markdown",
   "id": "79a6fcd5",
   "metadata": {},
   "source": [
    "Once you completed exercise 2-3, create the code that calculates the skewness and kurtosis of the \"preglen\" variable distribution. What can you say about this distribution? Represent your findings using a boxplot (use the pandas library as shown in the extract from Bruce, P., Bruce, A., & Gedeck, P. (2020). Practical statistics for data scientists: 50+ essential concepts using R and Python. O'Reilly Media)."
   ]
  },
  {
   "cell_type": "code",
   "execution_count": 69,
   "id": "9273e458",
   "metadata": {
    "scrolled": true
   },
   "outputs": [
    {
     "data": {
      "image/png": "[encoded data removed]",
      "text/plain": [
       "<Figure size 432x288 with 1 Axes>"
      ]
     },
     "metadata": {
      "needs_background": "light"
     },
     "output_type": "display_data"
    }
   ],
   "source": [
    "preglen = np.floor(live.prglngth)\n",
    "hist = thinkstats2.Hist(preglen, label='preglen')\n",
    "thinkplot.Hist(hist)\n",
    "thinkplot.Config(xlabel='weeks', ylabel='Count')"
   ]
  },
  {
   "cell_type": "code",
   "execution_count": 74,
   "id": "c93ec0fd",
   "metadata": {},
   "outputs": [
    {
     "data": {
      "text/plain": [
       "17.768148860362405"
      ]
     },
     "execution_count": 74,
     "metadata": {},
     "output_type": "execute_result"
    }
   ],
   "source": [
    "from scipy.stats import skew, kurtosis\n",
    "skew(preglen)\n",
    "kurtosis (preglen)"
   ]
  },
  {
   "cell_type": "markdown",
   "id": "59841b0a",
   "metadata": {},
   "source": [
    "Use the formulas and try to calculate the skewness manually."
   ]
  },
  {
   "cell_type": "markdown",
   "id": "ec7516ac",
   "metadata": {},
   "source": [
    "## Exercise 3-2"
   ]
  },
  {
   "cell_type": "code",
   "execution_count": null,
   "id": "3ec37673",
   "metadata": {},
   "outputs": [],
   "source": []
  },
  {
   "cell_type": "code",
   "execution_count": null,
   "id": "f57560e4",
   "metadata": {},
   "outputs": [],
   "source": []
  },
  {
   "cell_type": "code",
   "execution_count": null,
   "id": "01d24618",
   "metadata": {},
   "outputs": [],
   "source": []
  },
  {
   "cell_type": "code",
   "execution_count": null,
   "id": "106d334e",
   "metadata": {},
   "outputs": [],
   "source": []
  },
  {
   "cell_type": "code",
   "execution_count": null,
   "id": "934d1365",
   "metadata": {},
   "outputs": [],
   "source": []
  },
  {
   "cell_type": "code",
   "execution_count": null,
   "id": "62000908",
   "metadata": {},
   "outputs": [],
   "source": []
  },
  {
   "cell_type": "code",
   "execution_count": null,
   "id": "0e49b249",
   "metadata": {},
   "outputs": [],
   "source": []
  },
  {
   "cell_type": "code",
   "execution_count": null,
   "id": "90866ac1",
   "metadata": {},
   "outputs": [],
   "source": []
  },
  {
   "cell_type": "code",
   "execution_count": null,
   "id": "b6915abf",
   "metadata": {},
   "outputs": [],
   "source": []
  },
  {
   "cell_type": "code",
   "execution_count": null,
   "id": "077220b6",
   "metadata": {},
   "outputs": [],
   "source": []
  },
  {
   "cell_type": "code",
   "execution_count": null,
   "id": "5982e050",
   "metadata": {},
   "outputs": [],
   "source": []
  },
  {
   "cell_type": "code",
   "execution_count": null,
   "id": "9d66901c",
   "metadata": {},
   "outputs": [],
   "source": []
  },
  {
   "cell_type": "code",
   "execution_count": null,
   "id": "fdef918b",
   "metadata": {},
   "outputs": [],
   "source": []
  },
  {
   "cell_type": "code",
   "execution_count": null,
   "id": "e65a034d",
   "metadata": {},
   "outputs": [],
   "source": []
  },
  {
   "cell_type": "code",
   "execution_count": null,
   "id": "4ce2642f",
   "metadata": {},
   "outputs": [],
   "source": []
  },
  {
   "cell_type": "code",
   "execution_count": null,
   "id": "a5947a9f",
   "metadata": {},
   "outputs": [],
   "source": []
  }
 ],
 "metadata": {
  "kernelspec": {
   "display_name": "Python 3 (ipykernel)",
   "language": "python",
   "name": "python3"
  },
  "language_info": {
   "codemirror_mode": {
    "name": "ipython",
    "version": 3
   },
   "file_extension": ".py",
   "mimetype": "text/x-python",
   "name": "python",
   "nbconvert_exporter": "python",
   "pygments_lexer": "ipython3",
   "version": "3.9.7"
  }
 },
 "nbformat": 4,
 "nbformat_minor": 5
}
