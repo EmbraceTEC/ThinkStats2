{
 "cells": [
  {
   "cell_type": "markdown",
   "id": "ad26cb42",
   "metadata": {},
   "source": [
    "## Importing the relevant code/libraries"
   ]
  },
  {
   "cell_type": "markdown",
   "id": "5ba61ec1",
   "metadata": {},
   "source": [
    "In this code we will use the numpy and matplotlib libraries, as well as code created by the author of the book (nsfg, first,thinkstats2 and thinkplot). Please refer to the original code or the documentation to find out potential useful functions or get started with coding."
   ]
  },
  {
   "cell_type": "code",
   "execution_count": 1,
   "id": "ce6d213e",
   "metadata": {},
   "outputs": [],
   "source": [
    "from __future__ import print_function, division\n",
    "\n",
    "%matplotlib inline\n",
    "\n",
    "import numpy as np\n",
    "\n",
    "import nsfg\n",
    "import first\n",
    "import thinkstats2\n",
    "import thinkplot"
   ]
  },
  {
   "cell_type": "markdown",
   "id": "14ca2f05",
   "metadata": {},
   "source": [
    "## Exercise 2-3:"
   ]
  },
  {
   "cell_type": "markdown",
   "id": "3fb35e50",
   "metadata": {},
   "source": [
    "The mode of a distribution is the most frequent value; see\n",
    "Wikipedia. Write a function called Mode that takes a Hist and\n",
    "returns the most frequent value.\n"
   ]
  },
  {
   "cell_type": "markdown",
   "id": "fa0e5b6b",
   "metadata": {},
   "source": [
    "Step 1: let's try to get familiar with Hist and understand how it works. For this I go to the examples of chapter 2."
   ]
  },
  {
   "cell_type": "markdown",
   "id": "6357fd29",
   "metadata": {},
   "source": [
    "We already imported the database (import nsfg), but I don't remember how the db works. I go to the nsfg source code and I find this function: "
   ]
  },
  {
   "cell_type": "raw",
   "id": "c0d0c60e",
   "metadata": {},
   "source": [
    "def ReadFemPreg(dct_file='2002FemPreg.dct',\n",
    "                dat_file='2002FemPreg.dat.gz'):\n",
    "    \"\"\"Reads the NSFG pregnancy data."
   ]
  },
  {
   "cell_type": "code",
   "execution_count": 2,
   "id": "f3e836ad",
   "metadata": {},
   "outputs": [],
   "source": [
    "# so I try...\n",
    "database = nsfg.ReadFemPreg()"
   ]
  },
  {
   "cell_type": "markdown",
   "id": "66508b1e",
   "metadata": {},
   "source": [
    "The source code also tells me that this function returns a dataframe, so I google how dataframes work in Python. I find out there is a simple method to check the name of all the columns of the dataframe, that can be useful!"
   ]
  },
  {
   "cell_type": "code",
   "execution_count": 6,
   "id": "5c8cb7b6",
   "metadata": {},
   "outputs": [],
   "source": [
    "columns = database.columns"
   ]
  },
  {
   "cell_type": "code",
   "execution_count": 7,
   "id": "ad6b8846",
   "metadata": {},
   "outputs": [
    {
     "name": "stdout",
     "output_type": "stream",
     "text": [
      "Index(['caseid', 'pregordr', 'howpreg_n', 'howpreg_p', 'moscurrp', 'nowprgdk',\n",
      "       'pregend1', 'pregend2', 'nbrnaliv', 'multbrth',\n",
      "       ...\n",
      "       'laborfor_i', 'religion_i', 'metro_i', 'basewgt', 'adj_mod_basewgt',\n",
      "       'finalwgt', 'secu_p', 'sest', 'cmintvw', 'totalwgt_lb'],\n",
      "      dtype='object', length=244)\n"
     ]
    }
   ],
   "source": [
    "print(columns)"
   ]
  },
  {
   "cell_type": "markdown",
   "id": "86a6629b",
   "metadata": {},
   "source": [
    "Now that I remember a bit how the db works, I can go to chapter 2 and check again how to work with Hist."
   ]
  },
  {
   "cell_type": "code",
   "execution_count": 3,
   "id": "db764df0",
   "metadata": {},
   "outputs": [],
   "source": [
    "preg = nsfg.ReadFemPreg() #reload the database with the same name that the author uses, for simplicity\n",
    "live = preg[preg.outcome == 1] # get only alive babies\n",
    "hist = thinkstats2.Hist(live.birthwgt_lb, label='birthwgt_lb')"
   ]
  },
  {
   "cell_type": "code",
   "execution_count": 4,
   "id": "d501114c",
   "metadata": {},
   "outputs": [
    {
     "data": {
      "text/plain": [
       "Hist({7.0: 3049, 6.0: 2223, 8.0: 1889, 5.0: 697, 9.0: 623, 4.0: 229, 10.0: 132, 3.0: 98, 2.0: 53, 1.0: 40, 11.0: 26, 12.0: 10, 0.0: 8, 14.0: 3, 13.0: 3, 15.0: 1}, 'birthwgt_lb')"
      ]
     },
     "execution_count": 4,
     "metadata": {},
     "output_type": "execute_result"
    }
   ],
   "source": [
    "hist"
   ]
  },
  {
   "cell_type": "code",
   "execution_count": 8,
   "id": "70583cb4",
   "metadata": {},
   "outputs": [
    {
     "data": {
      "image/png": "[encoded data removed]",
      "text/plain": [
       "<Figure size 432x288 with 1 Axes>"
      ]
     },
     "metadata": {
      "needs_background": "light"
     },
     "output_type": "display_data"
    }
   ],
   "source": [
    "preg = nsfg.ReadFemPreg() #reload the database with the same name that the author uses, for simplicity\n",
    "live = preg[preg.outcome == 1] # get only alive babies\n",
    "hist = thinkstats2.Hist(live.birthwgt_lb, label='birthwgt_lb') # save the histogram object in a variable hist\n",
    "thinkplot.Hist(hist)\n",
    "thinkplot.Config(xlabel='Birth weight (pounds)', ylabel='Count')"
   ]
  },
  {
   "cell_type": "markdown",
   "id": "3d8d4792",
   "metadata": {},
   "source": [
    "The assignment asks to find the most frequent value, but that means that I have to get all the frequencies from the histogram and find the maximum, of course I want to know to which value every frequency is associated."
   ]
  },
  {
   "cell_type": "code",
   "execution_count": 9,
   "id": "e0eae7a6",
   "metadata": {},
   "outputs": [
    {
     "data": {
      "text/plain": [
       "dict_items([(7.0, 3049), (6.0, 2223), (8.0, 1889), (5.0, 697), (9.0, 623), (4.0, 229), (10.0, 132), (3.0, 98), (2.0, 53), (1.0, 40), (11.0, 26), (12.0, 10), (0.0, 8), (14.0, 3), (13.0, 3), (15.0, 1)])"
      ]
     },
     "execution_count": 9,
     "metadata": {},
     "output_type": "execute_result"
    }
   ],
   "source": [
    "hist.Items()"
   ]
  },
  {
   "cell_type": "code",
   "execution_count": 35,
   "id": "4ab79e69",
   "metadata": {},
   "outputs": [
    {
     "name": "stdout",
     "output_type": "stream",
     "text": [
      "3049\n",
      "7.0\n"
     ]
    }
   ],
   "source": [
    "max_freq = -1 #initialize the max to an impossibly low value\n",
    "for value,freq in hist.Items(): #read value and frequency from the histogram\n",
    "    if freq >= max_freq: # check if frequency is bigger than max_freq\n",
    "        max_freq = freq #if so it becomes max_freq\n",
    "        value_of_max_freq = value #save the connected value of max frequency\n",
    "        \n",
    "        #end if\n",
    "    #end for\n",
    "print(max_freq)\n",
    "print(value_of_max_freq)\n",
    "    "
   ]
  },
  {
   "cell_type": "code",
   "execution_count": 42,
   "id": "f549bc13",
   "metadata": {},
   "outputs": [],
   "source": [
    "alternative_max = max((freq, value) for value,freq in hist.Items())"
   ]
  },
  {
   "cell_type": "markdown",
   "id": "7dde2a4e",
   "metadata": {},
   "source": [
    "Now I am pretty sure there should be a pre-made method to find the maximum number in a list in python"
   ]
  },
  {
   "cell_type": "code",
   "execution_count": 43,
   "id": "12048ed9",
   "metadata": {},
   "outputs": [
    {
     "data": {
      "text/plain": [
       "(3049, 7.0)"
      ]
     },
     "execution_count": 43,
     "metadata": {},
     "output_type": "execute_result"
    }
   ],
   "source": [
    "alternative_max"
   ]
  },
  {
   "cell_type": "code",
   "execution_count": 5,
   "id": "617058f0",
   "metadata": {},
   "outputs": [],
   "source": [
    "def Mode(hist):\n",
    "    max_freq = -1\n",
    "    for value,freq in hist.Items():\n",
    "        if freq >= max_freq:\n",
    "            max_freq = freq\n",
    "            value_of_max_freq = value\n",
    "    return (value_of_max_freq)"
   ]
  },
  {
   "cell_type": "code",
   "execution_count": 6,
   "id": "ea944a9f",
   "metadata": {},
   "outputs": [
    {
     "data": {
      "text/plain": [
       "7.0"
      ]
     },
     "execution_count": 6,
     "metadata": {},
     "output_type": "execute_result"
    }
   ],
   "source": [
    "Mode(hist)"
   ]
  },
  {
   "cell_type": "code",
   "execution_count": 10,
   "id": "15e96a33",
   "metadata": {},
   "outputs": [],
   "source": [
    "mylist = [(2,3),(4,3),(3,6),(2,7)] #a test list"
   ]
  },
  {
   "cell_type": "code",
   "execution_count": 27,
   "id": "0463b2bf",
   "metadata": {},
   "outputs": [],
   "source": [
    "# take second element for sort\n",
    "def takeSecond(elem):\n",
    "    return elem[1]\n",
    "\n",
    "mylist.sort(key=takeSecond, reverse = 1)"
   ]
  },
  {
   "cell_type": "code",
   "execution_count": 28,
   "id": "45c4b872",
   "metadata": {},
   "outputs": [
    {
     "name": "stdout",
     "output_type": "stream",
     "text": [
      "[(2, 7), (3, 6), (2, 3), (4, 3)]\n"
     ]
    }
   ],
   "source": [
    "print(mylist)"
   ]
  },
  {
   "cell_type": "code",
   "execution_count": 68,
   "id": "f5639a6e",
   "metadata": {},
   "outputs": [
    {
     "name": "stdout",
     "output_type": "stream",
     "text": [
      "[(7.0, 3049), (6.0, 2223), (8.0, 1889), (5.0, 697), (9.0, 623), (4.0, 229), (10.0, 132), (3.0, 98), (2.0, 53), (1.0, 40), (11.0, 26), (12.0, 10), (0.0, 8), (14.0, 3), (13.0, 3), (15.0, 1)]\n"
     ]
    }
   ],
   "source": [
    "max_freq = -1 # initialize the max to an impossibly low value\n",
    "list_values = list()\n",
    "for value,freq in hist.Items():\n",
    "    if freq >= max_freq:\n",
    "        list_values = [(value, freq)] + list_values\n",
    "        max_freq = freq\n",
    "    else:\n",
    "        list_values = list_values + [(value, freq)]\n",
    "print(list_values)"
   ]
  },
  {
   "cell_type": "markdown",
   "id": "c37b62da",
   "metadata": {},
   "source": [
    "## Addition to exercise by Stella"
   ]
  },
  {
   "cell_type": "markdown",
   "id": "c56a619b",
   "metadata": {},
   "source": [
    "Once you completed exercise 2-3, create the code that calculates the skewness and kurtosis of the \"preglen\" variable distribution. What can you say about this distribution? Represent your findings using a boxplot (use the pandas library as shown in the extract from Bruce, P., Bruce, A., & Gedeck, P. (2020). Practical statistics for data scientists: 50+ essential concepts using R and Python. O'Reilly Media)."
   ]
  },
  {
   "cell_type": "code",
   "execution_count": 30,
   "id": "2149a308",
   "metadata": {
    "scrolled": true
   },
   "outputs": [
    {
     "data": {
      "image/png": "[encoded data removed]",
      "text/plain": [
       "<Figure size 432x288 with 1 Axes>"
      ]
     },
     "metadata": {
      "needs_background": "light"
     },
     "output_type": "display_data"
    }
   ],
   "source": [
    "preglen = np.floor(live.prglngth)\n",
    "hist = thinkstats2.Hist(preglen, label='preglen')\n",
    "thinkplot.Hist(hist)\n",
    "thinkplot.Config(xlabel='weeks', ylabel='Count')"
   ]
  },
  {
   "cell_type": "code",
   "execution_count": 32,
   "id": "e5210b0d",
   "metadata": {},
   "outputs": [
    {
     "data": {
      "text/plain": [
       "17.768148860362405"
      ]
     },
     "execution_count": 32,
     "metadata": {},
     "output_type": "execute_result"
    }
   ],
   "source": [
    "from scipy.stats import skew, kurtosis\n",
    "skew(preglen)\n",
    "kurtosis (preglen)"
   ]
  },
  {
   "cell_type": "markdown",
   "id": "ab24026d",
   "metadata": {},
   "source": [
    "Use the formulas and try to calculate the skewness manually."
   ]
  },
  {
   "cell_type": "code",
   "execution_count": 91,
   "id": "6b013f7c",
   "metadata": {},
   "outputs": [
    {
     "data": {
      "text/plain": [
       "<AxesSubplot:>"
      ]
     },
     "execution_count": 91,
     "metadata": {},
     "output_type": "execute_result"
    },
    {
     "data": {
      "image/png": "[encoded data removed]",
      "text/plain": [
       "<Figure size 432x288 with 1 Axes>"
      ]
     },
     "metadata": {
      "needs_background": "light"
     },
     "output_type": "display_data"
    }
   ],
   "source": [
    "preglen.plot.box()"
   ]
  },
  {
   "cell_type": "code",
   "execution_count": 94,
   "id": "8a56d7b4",
   "metadata": {},
   "outputs": [
    {
     "data": {
      "text/plain": [
       "<AxesSubplot:>"
      ]
     },
     "execution_count": 94,
     "metadata": {},
     "output_type": "execute_result"
    },
    {
     "data": {
      "image/png": "[encoded data removed]",
      "text/plain": [
       "<Figure size 432x288 with 1 Axes>"
      ]
     },
     "metadata": {
      "needs_background": "light"
     },
     "output_type": "display_data"
    }
   ],
   "source": [
    "preglen.plot.box(ylim=(38,40))"
   ]
  },
  {
   "cell_type": "code",
   "execution_count": 96,
   "id": "3b4fb39f",
   "metadata": {},
   "outputs": [
    {
     "data": {
      "text/plain": [
       "<AxesSubplot:>"
      ]
     },
     "execution_count": 96,
     "metadata": {},
     "output_type": "execute_result"
    },
    {
     "data": {
      "image/png": "[encoded data removed]",
      "text/plain": [
       "<Figure size 432x288 with 1 Axes>"
      ]
     },
     "metadata": {
      "needs_background": "light"
     },
     "output_type": "display_data"
    }
   ],
   "source": [
    "live.birthwgt_lb.plot.box()"
   ]
  },
  {
   "cell_type": "code",
   "execution_count": null,
   "id": "d1287904",
   "metadata": {},
   "outputs": [],
   "source": []
  },
  {
   "cell_type": "code",
   "execution_count": null,
   "id": "ebf30c6b",
   "metadata": {},
   "outputs": [],
   "source": []
  },
  {
   "cell_type": "code",
   "execution_count": null,
   "id": "c1bcc627",
   "metadata": {},
   "outputs": [],
   "source": []
  },
  {
   "cell_type": "markdown",
   "id": "1cf69f66",
   "metadata": {},
   "source": [
    "## Exercise 3-2"
   ]
  },
  {
   "cell_type": "markdown",
   "id": "c6856c05",
   "metadata": {},
   "source": [
    "Write functions called PmfMean and PmfVar that take a Pmf\n",
    "object and compute the mean and variance. To test these\n",
    "methods, check that they are consistent with the methods\n",
    "Mean and Var provided by Pmf."
   ]
  },
  {
   "cell_type": "markdown",
   "id": "de211bc4",
   "metadata": {},
   "source": [
    "The author, in chapter 3, provides code for the pmf so let's take a look again."
   ]
  },
  {
   "cell_type": "code",
   "execution_count": 75,
   "id": "f09738ee",
   "metadata": {},
   "outputs": [],
   "source": [
    "pmf = thinkstats2.Pmf(live.prglngth, label='prglngth')"
   ]
  },
  {
   "cell_type": "code",
   "execution_count": 78,
   "id": "3f8894e7",
   "metadata": {},
   "outputs": [
    {
     "data": {
      "image/png": "[encoded data removed]",
      "text/plain": [
       "<Figure size 432x288 with 1 Axes>"
      ]
     },
     "metadata": {
      "needs_background": "light"
     },
     "output_type": "display_data"
    }
   ],
   "source": [
    "thinkplot.Hist(pmf)\n",
    "thinkplot.Config(xlabel='Pregnancy length (weeks)', ylabel='Pmf')"
   ]
  },
  {
   "cell_type": "code",
   "execution_count": 79,
   "id": "72766226",
   "metadata": {},
   "outputs": [
    {
     "data": {
      "text/plain": [
       "<bound method Pmf.Probs of Pmf({39: 0.5130083078268474, 40: 0.1219938784433756, 38: 0.06635330126803674, 41: 0.06416703104503717, 37: 0.049737647573240056, 42: 0.03585483165719283, 36: 0.035089637079142984, 35: 0.0339965019676432, 43: 0.016178399650196764, 30: 0.015085264538696984, 32: 0.012571053782247486, 34: 0.006558810668998688, 33: 0.005356362046348929, 44: 0.005028421512898994, 26: 0.003825972890249235, 28: 0.0034980323567993005, 31: 0.00295146480104941, 29: 0.002295583734149541, 24: 0.0014210756449497158, 45: 0.0010931351114997815, 48: 0.000765194578049847, 22: 0.000765194578049847, 25: 0.00032794053344993443, 27: 0.00032794053344993443, 21: 0.00021862702229995628, 50: 0.00021862702229995628, 17: 0.00021862702229995628, 23: 0.00010931351114997814, 13: 0.00010931351114997814, 47: 0.00010931351114997814, 18: 0.00010931351114997814, 19: 0.00010931351114997814, 0: 0.00010931351114997814, 4: 0.00010931351114997814, 20: 0.00010931351114997814, 9: 0.00010931351114997814, 46: 0.00010931351114997814}, 'prglngth')>"
      ]
     },
     "execution_count": 79,
     "metadata": {},
     "output_type": "execute_result"
    }
   ],
   "source": [
    "pmf.Probs"
   ]
  },
  {
   "cell_type": "code",
   "execution_count": 80,
   "id": "cee58609",
   "metadata": {},
   "outputs": [
    {
     "data": {
      "text/plain": [
       "<bound method _DictWrapper.Items of Pmf({39: 0.5130083078268474, 40: 0.1219938784433756, 38: 0.06635330126803674, 41: 0.06416703104503717, 37: 0.049737647573240056, 42: 0.03585483165719283, 36: 0.035089637079142984, 35: 0.0339965019676432, 43: 0.016178399650196764, 30: 0.015085264538696984, 32: 0.012571053782247486, 34: 0.006558810668998688, 33: 0.005356362046348929, 44: 0.005028421512898994, 26: 0.003825972890249235, 28: 0.0034980323567993005, 31: 0.00295146480104941, 29: 0.002295583734149541, 24: 0.0014210756449497158, 45: 0.0010931351114997815, 48: 0.000765194578049847, 22: 0.000765194578049847, 25: 0.00032794053344993443, 27: 0.00032794053344993443, 21: 0.00021862702229995628, 50: 0.00021862702229995628, 17: 0.00021862702229995628, 23: 0.00010931351114997814, 13: 0.00010931351114997814, 47: 0.00010931351114997814, 18: 0.00010931351114997814, 19: 0.00010931351114997814, 0: 0.00010931351114997814, 4: 0.00010931351114997814, 20: 0.00010931351114997814, 9: 0.00010931351114997814, 46: 0.00010931351114997814}, 'prglngth')>"
      ]
     },
     "execution_count": 80,
     "metadata": {},
     "output_type": "execute_result"
    }
   ],
   "source": [
    "pmf.Items"
   ]
  },
  {
   "cell_type": "code",
   "execution_count": 81,
   "id": "6a20ac25",
   "metadata": {},
   "outputs": [
    {
     "name": "stdout",
     "output_type": "stream",
     "text": [
      "0.5130083078268474\n",
      "0.1219938784433756\n",
      "0.06635330126803674\n",
      "0.06416703104503717\n",
      "0.049737647573240056\n",
      "0.03585483165719283\n",
      "0.035089637079142984\n",
      "0.0339965019676432\n",
      "0.016178399650196764\n",
      "0.015085264538696984\n",
      "0.012571053782247486\n",
      "0.006558810668998688\n",
      "0.005356362046348929\n",
      "0.005028421512898994\n",
      "0.003825972890249235\n",
      "0.0034980323567993005\n",
      "0.00295146480104941\n",
      "0.002295583734149541\n",
      "0.0014210756449497158\n",
      "0.0010931351114997815\n",
      "0.000765194578049847\n",
      "0.000765194578049847\n",
      "0.00032794053344993443\n",
      "0.00032794053344993443\n",
      "0.00021862702229995628\n",
      "0.00021862702229995628\n",
      "0.00021862702229995628\n",
      "0.00010931351114997814\n",
      "0.00010931351114997814\n",
      "0.00010931351114997814\n",
      "0.00010931351114997814\n",
      "0.00010931351114997814\n",
      "0.00010931351114997814\n",
      "0.00010931351114997814\n",
      "0.00010931351114997814\n",
      "0.00010931351114997814\n",
      "0.00010931351114997814\n"
     ]
    }
   ],
   "source": [
    "for value,prob in pmf.Items():\n",
    "    print(prob)"
   ]
  },
  {
   "cell_type": "code",
   "execution_count": 84,
   "id": "f5783d2b",
   "metadata": {},
   "outputs": [
    {
     "name": "stdout",
     "output_type": "stream",
     "text": [
      "38.56055968517709\n",
      "38.56055968517709\n"
     ]
    }
   ],
   "source": [
    "mean = 0\n",
    "for value,prob in pmf.Items():\n",
    "    mult = value*prob\n",
    "    mean = mean + mult\n",
    "print(mean)\n",
    "print(pmf.Mean())"
   ]
  },
  {
   "cell_type": "code",
   "execution_count": 85,
   "id": "242cb240",
   "metadata": {},
   "outputs": [
    {
     "name": "stdout",
     "output_type": "stream",
     "text": [
      "7.301863788195439\n",
      "7.301863788195439\n"
     ]
    }
   ],
   "source": [
    "var = 0\n",
    "for value,prob in pmf.Items():\n",
    "    mult = prob*(value - mean)**2\n",
    "    var = var + mult\n",
    "print(var)\n",
    "print(pmf.Var())"
   ]
  },
  {
   "cell_type": "markdown",
   "id": "ac6fce79",
   "metadata": {},
   "source": [
    "# Exercise cumulative distribution function"
   ]
  },
  {
   "cell_type": "markdown",
   "id": "a975af0a",
   "metadata": {},
   "source": [
    "If your first-born child weight 10lb, to what percentile rank does he/she belong?"
   ]
  },
  {
   "cell_type": "markdown",
   "id": "0e66e212",
   "metadata": {},
   "source": [
    "I start with taking a look at the pmf of the first born children."
   ]
  },
  {
   "cell_type": "code",
   "execution_count": 33,
   "id": "51520891",
   "metadata": {},
   "outputs": [],
   "source": [
    "live, firsts, others = first.MakeFrames()"
   ]
  },
  {
   "cell_type": "markdown",
   "id": "54c0ea0e",
   "metadata": {},
   "source": [
    "What is dropna()?"
   ]
  },
  {
   "cell_type": "code",
   "execution_count": 34,
   "id": "1301ccc2",
   "metadata": {},
   "outputs": [
    {
     "name": "stdout",
     "output_type": "stream",
     "text": [
      "Firsts 4413 4363\n",
      "Others 4735 4675\n"
     ]
    }
   ],
   "source": [
    "first_wgt = firsts.totalwgt_lb\n",
    "first_wgt_dropna = first_wgt.dropna()\n",
    "print('Firsts', len(first_wgt), len(first_wgt_dropna))\n",
    " \n",
    "other_wgt = others.totalwgt_lb\n",
    "other_wgt_dropna = other_wgt.dropna()\n",
    "print('Others', len(other_wgt), len(other_wgt_dropna))\n"
   ]
  },
  {
   "cell_type": "code",
   "execution_count": 36,
   "id": "9ca789ee",
   "metadata": {},
   "outputs": [],
   "source": [
    "first_pmf = thinkstats2.Pmf(first_wgt_dropna, label='first')\n",
    "other_pmf = thinkstats2.Pmf(other_wgt_dropna, label='other')"
   ]
  },
  {
   "cell_type": "code",
   "execution_count": 37,
   "id": "5d594d5e",
   "metadata": {},
   "outputs": [
    {
     "data": {
      "image/png": "[encoded data removed]",
      "text/plain": [
       "<Figure size 432x288 with 1 Axes>"
      ]
     },
     "metadata": {
      "needs_background": "light"
     },
     "output_type": "display_data"
    }
   ],
   "source": [
    "thinkplot.Hist(first_pmf)\n",
    "thinkplot.Config(xlabel='Weight (pounds)', ylabel='PMF')"
   ]
  },
  {
   "cell_type": "markdown",
   "id": "65c26ba0",
   "metadata": {},
   "source": [
    "Basically I want to know what fraction of children weight less or equal to 10 lb"
   ]
  },
  {
   "cell_type": "code",
   "execution_count": 64,
   "id": "729237db",
   "metadata": {},
   "outputs": [],
   "source": [
    "count = 0\n",
    "weight_to_compare = 10.0\n",
    "for weight in first_wgt_dropna:\n",
    "    if weight <= weight_to_compare:\n",
    "        count += 1\n",
    "percentile = count/len(first_wgt_dropna)*100\n",
    "#the cumulative distribution function of x is the probability that values in the population are smaller or equal to x.\n",
    "CDF = count/len(first_wgt_dropna) "
   ]
  },
  {
   "cell_type": "code",
   "execution_count": 65,
   "id": "22c81f1c",
   "metadata": {
    "scrolled": true
   },
   "outputs": [
    {
     "name": "stdout",
     "output_type": "stream",
     "text": [
      "0.9846435938574375\n"
     ]
    }
   ],
   "source": [
    "print(CDF)"
   ]
  },
  {
   "cell_type": "code",
   "execution_count": 60,
   "id": "190d4c72",
   "metadata": {},
   "outputs": [],
   "source": [
    "cdf = thinkstats2.Cdf(first_wgt_dropna, label='first')"
   ]
  },
  {
   "cell_type": "code",
   "execution_count": 67,
   "id": "292862b7",
   "metadata": {},
   "outputs": [
    {
     "data": {
      "text/plain": [
       "10.375"
      ]
     },
     "execution_count": 67,
     "metadata": {},
     "output_type": "execute_result"
    }
   ],
   "source": [
    "cdf.Value(.99)"
   ]
  },
  {
   "cell_type": "markdown",
   "id": "48d216d3",
   "metadata": {},
   "source": [
    "Through the CDF you can answer a question like: there is x percent of probability that the measurement is smaller than value y.\n",
    "For example, look at the graph below: what is the probability that a first-born weight less than 8lb?"
   ]
  },
  {
   "cell_type": "code",
   "execution_count": 69,
   "id": "c9d9114b",
   "metadata": {},
   "outputs": [
    {
     "data": {
      "image/png": "[encoded data removed]",
      "text/plain": [
       "<Figure size 432x288 with 1 Axes>"
      ]
     },
     "metadata": {
      "needs_background": "light"
     },
     "output_type": "display_data"
    }
   ],
   "source": [
    "thinkplot.Cdf(cdf)\n",
    "thinkplot.Config(xlabel='Weight (pounds)', ylabel='CDF first borns')"
   ]
  },
  {
   "cell_type": "markdown",
   "id": "f0af9edc",
   "metadata": {},
   "source": [
    "CDFs are also useful to compare distributions. Plot the distribution of weight of first-born vs non-first-born in the form of (PMF) histograms, boxplots and CDFs, which plot highlights the differences better? (Plot them on the same axes to see a difference)"
   ]
  },
  {
   "cell_type": "code",
   "execution_count": 70,
   "id": "81ebc371",
   "metadata": {},
   "outputs": [
    {
     "data": {
      "image/png": "[encoded data removed]",
      "text/plain": [
       "<Figure size 432x288 with 1 Axes>"
      ]
     },
     "metadata": {
      "needs_background": "light"
     },
     "output_type": "display_data"
    }
   ],
   "source": [
    "width = 0.4 / 16\n",
    "\n",
    "# plot PMFs of birth weights for first babies and others\n",
    "thinkplot.PrePlot(2)\n",
    "thinkplot.Hist(first_pmf, align='right', width=width)\n",
    "thinkplot.Hist(other_pmf, align='left', width=width)\n",
    "thinkplot.Config(xlabel='Weight (pounds)', ylabel='PMF')"
   ]
  },
  {
   "cell_type": "markdown",
   "id": "b4628a17",
   "metadata": {},
   "source": [
    "Let's use matplotlib to plot the boxplot. Check out the documentation to find out how to use it. https://matplotlib.org/stable/gallery/statistics/boxplot_demo.html"
   ]
  },
  {
   "cell_type": "code",
   "execution_count": 91,
   "id": "a2ed0f20",
   "metadata": {},
   "outputs": [
    {
     "data": {
      "image/png": "[encoded data removed]",
      "text/plain": [
       "<Figure size 432x288 with 1 Axes>"
      ]
     },
     "metadata": {
      "needs_background": "light"
     },
     "output_type": "display_data"
    }
   ],
   "source": [
    "import matplotlib.pyplot as plt\n",
    "data = [first_wgt_dropna, other_wgt_dropna]\n",
    "plt.boxplot(data)\n",
    "plt.xticks([1,2],[\"First born\", \"Non-first born\"])\n",
    "plt.ylabel(\"Weight [lb]\")\n",
    "plt.grid()\n",
    "plt.show()"
   ]
  },
  {
   "cell_type": "code",
   "execution_count": 83,
   "id": "74d1aaf0",
   "metadata": {},
   "outputs": [
    {
     "data": {
      "image/png": "[encoded data removed]",
      "text/plain": [
       "<Figure size 432x288 with 1 Axes>"
      ]
     },
     "metadata": {
      "needs_background": "light"
     },
     "output_type": "display_data"
    }
   ],
   "source": [
    "first_cdf = thinkstats2.Cdf(firsts.totalwgt_lb, label='first')\n",
    "other_cdf = thinkstats2.Cdf(others.totalwgt_lb, label='other')\n",
    "\n",
    "thinkplot.PrePlot(2)\n",
    "thinkplot.Cdfs([first_cdf, other_cdf])\n",
    "thinkplot.Config(xlabel='Weight (pounds)', ylabel='CDF')"
   ]
  },
  {
   "cell_type": "code",
   "execution_count": null,
   "id": "4ea48aea",
   "metadata": {},
   "outputs": [],
   "source": []
  },
  {
   "cell_type": "code",
   "execution_count": null,
   "id": "6741351b",
   "metadata": {},
   "outputs": [],
   "source": []
  },
  {
   "cell_type": "code",
   "execution_count": null,
   "id": "8be06002",
   "metadata": {},
   "outputs": [],
   "source": []
  },
  {
   "cell_type": "code",
   "execution_count": null,
   "id": "7f4995d0",
   "metadata": {},
   "outputs": [],
   "source": []
  },
  {
   "cell_type": "code",
   "execution_count": null,
   "id": "9ca95e80",
   "metadata": {},
   "outputs": [],
   "source": []
  },
  {
   "cell_type": "code",
   "execution_count": null,
   "id": "3aec7bf4",
   "metadata": {},
   "outputs": [],
   "source": []
  },
  {
   "cell_type": "code",
   "execution_count": null,
   "id": "b959f63c",
   "metadata": {},
   "outputs": [],
   "source": []
  }
 ],
 "metadata": {
  "kernelspec": {
   "display_name": "Python 3 (ipykernel)",
   "language": "python",
   "name": "python3"
  },
  "language_info": {
   "codemirror_mode": {
    "name": "ipython",
    "version": 3
   },
   "file_extension": ".py",
   "mimetype": "text/x-python",
   "name": "python",
   "nbconvert_exporter": "python",
   "pygments_lexer": "ipython3",
   "version": "3.9.7"
  }
 },
 "nbformat": 4,
 "nbformat_minor": 5
}
